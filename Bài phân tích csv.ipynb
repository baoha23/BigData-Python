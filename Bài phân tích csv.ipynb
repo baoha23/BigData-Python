{
 "cells": [
  {
   "cell_type": "code",
   "execution_count": 7,
   "id": "3e508a9b",
   "metadata": {},
   "outputs": [],
   "source": [
    "import pandas\n",
    "import matplotlib.pyplot as plt"
   ]
  },
  {
   "cell_type": "code",
   "execution_count": 8,
   "id": "9a7fae62",
   "metadata": {
    "scrolled": false
   },
   "outputs": [
    {
     "data": {
      "text/html": [
       "<div>\n",
       "<style scoped>\n",
       "    .dataframe tbody tr th:only-of-type {\n",
       "        vertical-align: middle;\n",
       "    }\n",
       "\n",
       "    .dataframe tbody tr th {\n",
       "        vertical-align: top;\n",
       "    }\n",
       "\n",
       "    .dataframe thead th {\n",
       "        text-align: right;\n",
       "    }\n",
       "</style>\n",
       "<table border=\"1\" class=\"dataframe\">\n",
       "  <thead>\n",
       "    <tr style=\"text-align: right;\">\n",
       "      <th></th>\n",
       "      <th>Series_reference</th>\n",
       "      <th>Period</th>\n",
       "      <th>Type</th>\n",
       "      <th>Data_value</th>\n",
       "      <th>Lower_CI</th>\n",
       "      <th>Upper_CI</th>\n",
       "      <th>Units</th>\n",
       "      <th>Indicator</th>\n",
       "      <th>Cause</th>\n",
       "      <th>Validation</th>\n",
       "      <th>Population</th>\n",
       "      <th>Age</th>\n",
       "      <th>Severity</th>\n",
       "    </tr>\n",
       "  </thead>\n",
       "  <tbody>\n",
       "    <tr>\n",
       "      <th>0</th>\n",
       "      <td>W_A11</td>\n",
       "      <td>2000-02</td>\n",
       "      <td>Moving average</td>\n",
       "      <td>59.666667</td>\n",
       "      <td>50.925823</td>\n",
       "      <td>68.407510</td>\n",
       "      <td>Injuries</td>\n",
       "      <td>Number</td>\n",
       "      <td>Assault</td>\n",
       "      <td>Validated</td>\n",
       "      <td>Whole pop</td>\n",
       "      <td>All ages</td>\n",
       "      <td>Fatal</td>\n",
       "    </tr>\n",
       "    <tr>\n",
       "      <th>1</th>\n",
       "      <td>W_A11</td>\n",
       "      <td>2001-03</td>\n",
       "      <td>Moving average</td>\n",
       "      <td>60.000000</td>\n",
       "      <td>51.234775</td>\n",
       "      <td>68.765225</td>\n",
       "      <td>Injuries</td>\n",
       "      <td>Number</td>\n",
       "      <td>Assault</td>\n",
       "      <td>Validated</td>\n",
       "      <td>Whole pop</td>\n",
       "      <td>All ages</td>\n",
       "      <td>Fatal</td>\n",
       "    </tr>\n",
       "    <tr>\n",
       "      <th>2</th>\n",
       "      <td>W_A11</td>\n",
       "      <td>2002-04</td>\n",
       "      <td>Moving average</td>\n",
       "      <td>59.000000</td>\n",
       "      <td>50.308125</td>\n",
       "      <td>67.691875</td>\n",
       "      <td>Injuries</td>\n",
       "      <td>Number</td>\n",
       "      <td>Assault</td>\n",
       "      <td>Validated</td>\n",
       "      <td>Whole pop</td>\n",
       "      <td>All ages</td>\n",
       "      <td>Fatal</td>\n",
       "    </tr>\n",
       "    <tr>\n",
       "      <th>3</th>\n",
       "      <td>W_A11</td>\n",
       "      <td>2003-05</td>\n",
       "      <td>Moving average</td>\n",
       "      <td>59.000000</td>\n",
       "      <td>50.308125</td>\n",
       "      <td>67.691875</td>\n",
       "      <td>Injuries</td>\n",
       "      <td>Number</td>\n",
       "      <td>Assault</td>\n",
       "      <td>Validated</td>\n",
       "      <td>Whole pop</td>\n",
       "      <td>All ages</td>\n",
       "      <td>Fatal</td>\n",
       "    </tr>\n",
       "    <tr>\n",
       "      <th>4</th>\n",
       "      <td>W_A11</td>\n",
       "      <td>2004-06</td>\n",
       "      <td>Moving average</td>\n",
       "      <td>61.333333</td>\n",
       "      <td>52.471252</td>\n",
       "      <td>70.195415</td>\n",
       "      <td>Injuries</td>\n",
       "      <td>Number</td>\n",
       "      <td>Assault</td>\n",
       "      <td>Validated</td>\n",
       "      <td>Whole pop</td>\n",
       "      <td>All ages</td>\n",
       "      <td>Fatal</td>\n",
       "    </tr>\n",
       "    <tr>\n",
       "      <th>...</th>\n",
       "      <td>...</td>\n",
       "      <td>...</td>\n",
       "      <td>...</td>\n",
       "      <td>...</td>\n",
       "      <td>...</td>\n",
       "      <td>...</td>\n",
       "      <td>...</td>\n",
       "      <td>...</td>\n",
       "      <td>...</td>\n",
       "      <td>...</td>\n",
       "      <td>...</td>\n",
       "      <td>...</td>\n",
       "      <td>...</td>\n",
       "    </tr>\n",
       "    <tr>\n",
       "      <th>2743</th>\n",
       "      <td>p21</td>\n",
       "      <td>2014</td>\n",
       "      <td>Single year</td>\n",
       "      <td>46.000000</td>\n",
       "      <td>32.706878</td>\n",
       "      <td>59.293122</td>\n",
       "      <td>Injuries</td>\n",
       "      <td>Number</td>\n",
       "      <td>Pedestrian</td>\n",
       "      <td>Validated</td>\n",
       "      <td>Children</td>\n",
       "      <td>0-14 years</td>\n",
       "      <td>Serious</td>\n",
       "    </tr>\n",
       "    <tr>\n",
       "      <th>2744</th>\n",
       "      <td>p21</td>\n",
       "      <td>2015</td>\n",
       "      <td>Single year</td>\n",
       "      <td>41.000000</td>\n",
       "      <td>28.450107</td>\n",
       "      <td>53.549893</td>\n",
       "      <td>Injuries</td>\n",
       "      <td>Number</td>\n",
       "      <td>Pedestrian</td>\n",
       "      <td>Validated</td>\n",
       "      <td>Children</td>\n",
       "      <td>0-14 years</td>\n",
       "      <td>Serious</td>\n",
       "    </tr>\n",
       "    <tr>\n",
       "      <th>2745</th>\n",
       "      <td>p21</td>\n",
       "      <td>2016</td>\n",
       "      <td>Single year</td>\n",
       "      <td>36.000000</td>\n",
       "      <td>24.240216</td>\n",
       "      <td>47.759784</td>\n",
       "      <td>Injuries</td>\n",
       "      <td>Number</td>\n",
       "      <td>Pedestrian</td>\n",
       "      <td>Validated</td>\n",
       "      <td>Children</td>\n",
       "      <td>0-14 years</td>\n",
       "      <td>Serious</td>\n",
       "    </tr>\n",
       "    <tr>\n",
       "      <th>2746</th>\n",
       "      <td>p21</td>\n",
       "      <td>2017</td>\n",
       "      <td>Single year</td>\n",
       "      <td>40.000000</td>\n",
       "      <td>27.604099</td>\n",
       "      <td>52.395901</td>\n",
       "      <td>Injuries</td>\n",
       "      <td>Number</td>\n",
       "      <td>Pedestrian</td>\n",
       "      <td>Validated</td>\n",
       "      <td>Children</td>\n",
       "      <td>0-14 years</td>\n",
       "      <td>Serious</td>\n",
       "    </tr>\n",
       "    <tr>\n",
       "      <th>2747</th>\n",
       "      <td>p21</td>\n",
       "      <td>2018</td>\n",
       "      <td>Single year</td>\n",
       "      <td>41.000000</td>\n",
       "      <td>28.450107</td>\n",
       "      <td>53.549893</td>\n",
       "      <td>Injuries</td>\n",
       "      <td>Number</td>\n",
       "      <td>Pedestrian</td>\n",
       "      <td>Validated</td>\n",
       "      <td>Children</td>\n",
       "      <td>0-14 years</td>\n",
       "      <td>Serious</td>\n",
       "    </tr>\n",
       "  </tbody>\n",
       "</table>\n",
       "<p>2748 rows × 13 columns</p>\n",
       "</div>"
      ],
      "text/plain": [
       "     Series_reference   Period            Type  Data_value   Lower_CI  \\\n",
       "0               W_A11  2000-02  Moving average   59.666667  50.925823   \n",
       "1               W_A11  2001-03  Moving average   60.000000  51.234775   \n",
       "2               W_A11  2002-04  Moving average   59.000000  50.308125   \n",
       "3               W_A11  2003-05  Moving average   59.000000  50.308125   \n",
       "4               W_A11  2004-06  Moving average   61.333333  52.471252   \n",
       "...               ...      ...             ...         ...        ...   \n",
       "2743              p21     2014     Single year   46.000000  32.706878   \n",
       "2744              p21     2015     Single year   41.000000  28.450107   \n",
       "2745              p21     2016     Single year   36.000000  24.240216   \n",
       "2746              p21     2017     Single year   40.000000  27.604099   \n",
       "2747              p21     2018     Single year   41.000000  28.450107   \n",
       "\n",
       "       Upper_CI     Units Indicator       Cause Validation Population  \\\n",
       "0     68.407510  Injuries    Number     Assault  Validated  Whole pop   \n",
       "1     68.765225  Injuries    Number     Assault  Validated  Whole pop   \n",
       "2     67.691875  Injuries    Number     Assault  Validated  Whole pop   \n",
       "3     67.691875  Injuries    Number     Assault  Validated  Whole pop   \n",
       "4     70.195415  Injuries    Number     Assault  Validated  Whole pop   \n",
       "...         ...       ...       ...         ...        ...        ...   \n",
       "2743  59.293122  Injuries    Number  Pedestrian  Validated   Children   \n",
       "2744  53.549893  Injuries    Number  Pedestrian  Validated   Children   \n",
       "2745  47.759784  Injuries    Number  Pedestrian  Validated   Children   \n",
       "2746  52.395901  Injuries    Number  Pedestrian  Validated   Children   \n",
       "2747  53.549893  Injuries    Number  Pedestrian  Validated   Children   \n",
       "\n",
       "             Age Severity  \n",
       "0       All ages    Fatal  \n",
       "1       All ages    Fatal  \n",
       "2       All ages    Fatal  \n",
       "3       All ages    Fatal  \n",
       "4       All ages    Fatal  \n",
       "...          ...      ...  \n",
       "2743  0-14 years  Serious  \n",
       "2744  0-14 years  Serious  \n",
       "2745  0-14 years  Serious  \n",
       "2746  0-14 years  Serious  \n",
       "2747  0-14 years  Serious  \n",
       "\n",
       "[2748 rows x 13 columns]"
      ]
     },
     "execution_count": 8,
     "metadata": {},
     "output_type": "execute_result"
    }
   ],
   "source": [
    "path = 'serious-injury-outcome-indicators-2000-2020-CSV.csv'\n",
    "dataframe = pandas.read_csv(path)\n",
    "dataframe"
   ]
  },
  {
   "cell_type": "code",
   "execution_count": null,
   "id": "bfa76694",
   "metadata": {},
   "outputs": [],
   "source": [
    "#Ta tạo 1 columm trống "
   ]
  },
  {
   "cell_type": "code",
   "execution_count": 9,
   "id": "b8ffe4c1",
   "metadata": {},
   "outputs": [
    {
     "data": {
      "text/html": [
       "<div>\n",
       "<style scoped>\n",
       "    .dataframe tbody tr th:only-of-type {\n",
       "        vertical-align: middle;\n",
       "    }\n",
       "\n",
       "    .dataframe tbody tr th {\n",
       "        vertical-align: top;\n",
       "    }\n",
       "\n",
       "    .dataframe thead th {\n",
       "        text-align: right;\n",
       "    }\n",
       "</style>\n",
       "<table border=\"1\" class=\"dataframe\">\n",
       "  <thead>\n",
       "    <tr style=\"text-align: right;\">\n",
       "      <th></th>\n",
       "      <th>Series_reference</th>\n",
       "      <th>Period</th>\n",
       "      <th>Type</th>\n",
       "      <th>Data_value</th>\n",
       "      <th>Lower_CI</th>\n",
       "      <th>Upper_CI</th>\n",
       "      <th>Units</th>\n",
       "      <th>Indicator</th>\n",
       "      <th>Cause</th>\n",
       "      <th>Validation</th>\n",
       "      <th>Population</th>\n",
       "      <th>Age</th>\n",
       "      <th>Severity</th>\n",
       "      <th>Years</th>\n",
       "    </tr>\n",
       "  </thead>\n",
       "  <tbody>\n",
       "    <tr>\n",
       "      <th>0</th>\n",
       "      <td>W_A11</td>\n",
       "      <td>2000-02</td>\n",
       "      <td>Moving average</td>\n",
       "      <td>59.666667</td>\n",
       "      <td>50.925823</td>\n",
       "      <td>68.407510</td>\n",
       "      <td>Injuries</td>\n",
       "      <td>Number</td>\n",
       "      <td>Assault</td>\n",
       "      <td>Validated</td>\n",
       "      <td>Whole pop</td>\n",
       "      <td>All ages</td>\n",
       "      <td>Fatal</td>\n",
       "      <td></td>\n",
       "    </tr>\n",
       "    <tr>\n",
       "      <th>1</th>\n",
       "      <td>W_A11</td>\n",
       "      <td>2001-03</td>\n",
       "      <td>Moving average</td>\n",
       "      <td>60.000000</td>\n",
       "      <td>51.234775</td>\n",
       "      <td>68.765225</td>\n",
       "      <td>Injuries</td>\n",
       "      <td>Number</td>\n",
       "      <td>Assault</td>\n",
       "      <td>Validated</td>\n",
       "      <td>Whole pop</td>\n",
       "      <td>All ages</td>\n",
       "      <td>Fatal</td>\n",
       "      <td></td>\n",
       "    </tr>\n",
       "    <tr>\n",
       "      <th>2</th>\n",
       "      <td>W_A11</td>\n",
       "      <td>2002-04</td>\n",
       "      <td>Moving average</td>\n",
       "      <td>59.000000</td>\n",
       "      <td>50.308125</td>\n",
       "      <td>67.691875</td>\n",
       "      <td>Injuries</td>\n",
       "      <td>Number</td>\n",
       "      <td>Assault</td>\n",
       "      <td>Validated</td>\n",
       "      <td>Whole pop</td>\n",
       "      <td>All ages</td>\n",
       "      <td>Fatal</td>\n",
       "      <td></td>\n",
       "    </tr>\n",
       "    <tr>\n",
       "      <th>3</th>\n",
       "      <td>W_A11</td>\n",
       "      <td>2003-05</td>\n",
       "      <td>Moving average</td>\n",
       "      <td>59.000000</td>\n",
       "      <td>50.308125</td>\n",
       "      <td>67.691875</td>\n",
       "      <td>Injuries</td>\n",
       "      <td>Number</td>\n",
       "      <td>Assault</td>\n",
       "      <td>Validated</td>\n",
       "      <td>Whole pop</td>\n",
       "      <td>All ages</td>\n",
       "      <td>Fatal</td>\n",
       "      <td></td>\n",
       "    </tr>\n",
       "    <tr>\n",
       "      <th>4</th>\n",
       "      <td>W_A11</td>\n",
       "      <td>2004-06</td>\n",
       "      <td>Moving average</td>\n",
       "      <td>61.333333</td>\n",
       "      <td>52.471252</td>\n",
       "      <td>70.195415</td>\n",
       "      <td>Injuries</td>\n",
       "      <td>Number</td>\n",
       "      <td>Assault</td>\n",
       "      <td>Validated</td>\n",
       "      <td>Whole pop</td>\n",
       "      <td>All ages</td>\n",
       "      <td>Fatal</td>\n",
       "      <td></td>\n",
       "    </tr>\n",
       "  </tbody>\n",
       "</table>\n",
       "</div>"
      ],
      "text/plain": [
       "  Series_reference   Period            Type  Data_value   Lower_CI   Upper_CI  \\\n",
       "0            W_A11  2000-02  Moving average   59.666667  50.925823  68.407510   \n",
       "1            W_A11  2001-03  Moving average   60.000000  51.234775  68.765225   \n",
       "2            W_A11  2002-04  Moving average   59.000000  50.308125  67.691875   \n",
       "3            W_A11  2003-05  Moving average   59.000000  50.308125  67.691875   \n",
       "4            W_A11  2004-06  Moving average   61.333333  52.471252  70.195415   \n",
       "\n",
       "      Units Indicator    Cause Validation Population       Age Severity Years  \n",
       "0  Injuries    Number  Assault  Validated  Whole pop  All ages    Fatal        \n",
       "1  Injuries    Number  Assault  Validated  Whole pop  All ages    Fatal        \n",
       "2  Injuries    Number  Assault  Validated  Whole pop  All ages    Fatal        \n",
       "3  Injuries    Number  Assault  Validated  Whole pop  All ages    Fatal        \n",
       "4  Injuries    Number  Assault  Validated  Whole pop  All ages    Fatal        "
      ]
     },
     "execution_count": 9,
     "metadata": {},
     "output_type": "execute_result"
    }
   ],
   "source": [
    "dataframe['Years'] = ''\n",
    "dataframe.head()"
   ]
  },
  {
   "cell_type": "code",
   "execution_count": null,
   "id": "ca7eb917",
   "metadata": {},
   "outputs": [],
   "source": [
    "#Trích xuất dữ liệu để xem"
   ]
  },
  {
   "cell_type": "code",
   "execution_count": 10,
   "id": "535af147",
   "metadata": {
    "scrolled": true
   },
   "outputs": [
    {
     "data": {
      "text/plain": [
       "0       2000-02\n",
       "1       2001-03\n",
       "2       2002-04\n",
       "3       2003-05\n",
       "4       2004-06\n",
       "         ...   \n",
       "2743       2014\n",
       "2744       2015\n",
       "2745       2016\n",
       "2746       2017\n",
       "2747       2018\n",
       "Name: Period, Length: 2748, dtype: object"
      ]
     },
     "execution_count": 10,
     "metadata": {},
     "output_type": "execute_result"
    }
   ],
   "source": [
    "dataframe.Period"
   ]
  },
  {
   "cell_type": "code",
   "execution_count": null,
   "id": "8273a94f",
   "metadata": {},
   "outputs": [],
   "source": [
    "#Cắt ra Năm để thống kê tổng giá trị kiểm soát chấn thương của năm đó"
   ]
  },
  {
   "cell_type": "code",
   "execution_count": 11,
   "id": "da8172e1",
   "metadata": {},
   "outputs": [
    {
     "data": {
      "text/plain": [
       "0       2000\n",
       "1       2001\n",
       "2       2002\n",
       "3       2003\n",
       "4       2004\n",
       "        ... \n",
       "2743    2014\n",
       "2744    2015\n",
       "2745    2016\n",
       "2746    2017\n",
       "2747    2018\n",
       "Name: Period, Length: 2748, dtype: object"
      ]
     },
     "execution_count": 11,
     "metadata": {},
     "output_type": "execute_result"
    }
   ],
   "source": [
    "dataframe['Period'].str.slice(0,4,1)"
   ]
  },
  {
   "cell_type": "code",
   "execution_count": 52,
   "id": "ea6cebd4",
   "metadata": {},
   "outputs": [],
   "source": [
    "#Đặt tên cho cột giá trị vừa cắt ra là \"Years\"  để thuận tiện cho làm bài"
   ]
  },
  {
   "cell_type": "code",
   "execution_count": 12,
   "id": "d4fa54ee",
   "metadata": {},
   "outputs": [
    {
     "data": {
      "text/html": [
       "<div>\n",
       "<style scoped>\n",
       "    .dataframe tbody tr th:only-of-type {\n",
       "        vertical-align: middle;\n",
       "    }\n",
       "\n",
       "    .dataframe tbody tr th {\n",
       "        vertical-align: top;\n",
       "    }\n",
       "\n",
       "    .dataframe thead th {\n",
       "        text-align: right;\n",
       "    }\n",
       "</style>\n",
       "<table border=\"1\" class=\"dataframe\">\n",
       "  <thead>\n",
       "    <tr style=\"text-align: right;\">\n",
       "      <th></th>\n",
       "      <th>Series_reference</th>\n",
       "      <th>Period</th>\n",
       "      <th>Type</th>\n",
       "      <th>Data_value</th>\n",
       "      <th>Lower_CI</th>\n",
       "      <th>Upper_CI</th>\n",
       "      <th>Units</th>\n",
       "      <th>Indicator</th>\n",
       "      <th>Cause</th>\n",
       "      <th>Validation</th>\n",
       "      <th>Population</th>\n",
       "      <th>Age</th>\n",
       "      <th>Severity</th>\n",
       "      <th>Years</th>\n",
       "    </tr>\n",
       "  </thead>\n",
       "  <tbody>\n",
       "    <tr>\n",
       "      <th>0</th>\n",
       "      <td>W_A11</td>\n",
       "      <td>2000-02</td>\n",
       "      <td>Moving average</td>\n",
       "      <td>59.666667</td>\n",
       "      <td>50.925823</td>\n",
       "      <td>68.407510</td>\n",
       "      <td>Injuries</td>\n",
       "      <td>Number</td>\n",
       "      <td>Assault</td>\n",
       "      <td>Validated</td>\n",
       "      <td>Whole pop</td>\n",
       "      <td>All ages</td>\n",
       "      <td>Fatal</td>\n",
       "      <td>2000</td>\n",
       "    </tr>\n",
       "    <tr>\n",
       "      <th>1</th>\n",
       "      <td>W_A11</td>\n",
       "      <td>2001-03</td>\n",
       "      <td>Moving average</td>\n",
       "      <td>60.000000</td>\n",
       "      <td>51.234775</td>\n",
       "      <td>68.765225</td>\n",
       "      <td>Injuries</td>\n",
       "      <td>Number</td>\n",
       "      <td>Assault</td>\n",
       "      <td>Validated</td>\n",
       "      <td>Whole pop</td>\n",
       "      <td>All ages</td>\n",
       "      <td>Fatal</td>\n",
       "      <td>2001</td>\n",
       "    </tr>\n",
       "    <tr>\n",
       "      <th>2</th>\n",
       "      <td>W_A11</td>\n",
       "      <td>2002-04</td>\n",
       "      <td>Moving average</td>\n",
       "      <td>59.000000</td>\n",
       "      <td>50.308125</td>\n",
       "      <td>67.691875</td>\n",
       "      <td>Injuries</td>\n",
       "      <td>Number</td>\n",
       "      <td>Assault</td>\n",
       "      <td>Validated</td>\n",
       "      <td>Whole pop</td>\n",
       "      <td>All ages</td>\n",
       "      <td>Fatal</td>\n",
       "      <td>2002</td>\n",
       "    </tr>\n",
       "    <tr>\n",
       "      <th>3</th>\n",
       "      <td>W_A11</td>\n",
       "      <td>2003-05</td>\n",
       "      <td>Moving average</td>\n",
       "      <td>59.000000</td>\n",
       "      <td>50.308125</td>\n",
       "      <td>67.691875</td>\n",
       "      <td>Injuries</td>\n",
       "      <td>Number</td>\n",
       "      <td>Assault</td>\n",
       "      <td>Validated</td>\n",
       "      <td>Whole pop</td>\n",
       "      <td>All ages</td>\n",
       "      <td>Fatal</td>\n",
       "      <td>2003</td>\n",
       "    </tr>\n",
       "    <tr>\n",
       "      <th>4</th>\n",
       "      <td>W_A11</td>\n",
       "      <td>2004-06</td>\n",
       "      <td>Moving average</td>\n",
       "      <td>61.333333</td>\n",
       "      <td>52.471252</td>\n",
       "      <td>70.195415</td>\n",
       "      <td>Injuries</td>\n",
       "      <td>Number</td>\n",
       "      <td>Assault</td>\n",
       "      <td>Validated</td>\n",
       "      <td>Whole pop</td>\n",
       "      <td>All ages</td>\n",
       "      <td>Fatal</td>\n",
       "      <td>2004</td>\n",
       "    </tr>\n",
       "  </tbody>\n",
       "</table>\n",
       "</div>"
      ],
      "text/plain": [
       "  Series_reference   Period            Type  Data_value   Lower_CI   Upper_CI  \\\n",
       "0            W_A11  2000-02  Moving average   59.666667  50.925823  68.407510   \n",
       "1            W_A11  2001-03  Moving average   60.000000  51.234775  68.765225   \n",
       "2            W_A11  2002-04  Moving average   59.000000  50.308125  67.691875   \n",
       "3            W_A11  2003-05  Moving average   59.000000  50.308125  67.691875   \n",
       "4            W_A11  2004-06  Moving average   61.333333  52.471252  70.195415   \n",
       "\n",
       "      Units Indicator    Cause Validation Population       Age Severity Years  \n",
       "0  Injuries    Number  Assault  Validated  Whole pop  All ages    Fatal  2000  \n",
       "1  Injuries    Number  Assault  Validated  Whole pop  All ages    Fatal  2001  \n",
       "2  Injuries    Number  Assault  Validated  Whole pop  All ages    Fatal  2002  \n",
       "3  Injuries    Number  Assault  Validated  Whole pop  All ages    Fatal  2003  \n",
       "4  Injuries    Number  Assault  Validated  Whole pop  All ages    Fatal  2004  "
      ]
     },
     "execution_count": 12,
     "metadata": {},
     "output_type": "execute_result"
    }
   ],
   "source": [
    "dataframe['Years'] = dataframe['Period'].str.slice(0,4,1)\n",
    "dataframe.head()"
   ]
  },
  {
   "cell_type": "code",
   "execution_count": null,
   "id": "b6142a9b",
   "metadata": {},
   "outputs": [],
   "source": [
    "#Gọi tất cả các giá trị trong cột years vừa có được "
   ]
  },
  {
   "cell_type": "code",
   "execution_count": 13,
   "id": "e3d2bcca",
   "metadata": {
    "scrolled": true
   },
   "outputs": [
    {
     "name": "stdout",
     "output_type": "stream",
     "text": [
      "{'2004', '2017', '2009', '2013', '2011', '2014', '2002', '2018', '2003', '2015', '2005', '2000', '2006', '2001', '2008', '2019', '2016', '2020', '2012', '2007', '2010'}\n"
     ]
    }
   ],
   "source": [
    "print(set(dataframe['Years']))"
   ]
  },
  {
   "cell_type": "code",
   "execution_count": null,
   "id": "96b6ed38",
   "metadata": {},
   "outputs": [],
   "source": [
    "#Tiếp theo ta bắt đầu gộp các giá trị có cùng năm lại bằng lệnh groupby\n",
    "#Tính tổng giá trị của năm đó "
   ]
  },
  {
   "cell_type": "code",
   "execution_count": 18,
   "id": "b59d144f",
   "metadata": {},
   "outputs": [
    {
     "data": {
      "text/plain": [
       "Years\n",
       "2000    58185.233774\n",
       "2001    58342.643515\n",
       "2002    58224.781047\n",
       "2003    60534.797486\n",
       "2004    58541.796328\n",
       "2005    60201.353501\n",
       "2006    61399.044284\n",
       "2007    60745.015092\n",
       "2008    61181.365528\n",
       "2009    64318.741951\n",
       "2010    66067.918514\n",
       "2011    66333.104046\n",
       "2012    67934.677081\n",
       "2013    69401.231228\n",
       "2014    71264.076654\n",
       "2015    73440.110218\n",
       "2016    79178.155403\n",
       "2017    82326.548930\n",
       "2018    87394.882024\n",
       "2019    41326.953180\n",
       "2020    41600.900902\n",
       "Name: Data_value, dtype: float64"
      ]
     },
     "execution_count": 18,
     "metadata": {},
     "output_type": "execute_result"
    }
   ],
   "source": [
    "dataframe.groupby('Years').sum()['Data_value']"
   ]
  },
  {
   "cell_type": "code",
   "execution_count": null,
   "id": "9f3ace58",
   "metadata": {},
   "outputs": [],
   "source": [
    "#Tổng giá trị kiểm soát dưới theo năm"
   ]
  },
  {
   "cell_type": "code",
   "execution_count": 19,
   "id": "c3afa39c",
   "metadata": {},
   "outputs": [
    {
     "data": {
      "text/plain": [
       "Years\n",
       "2000    54734.246098\n",
       "2001    54955.450528\n",
       "2002    54716.541457\n",
       "2003    56993.318152\n",
       "2004    55013.374326\n",
       "2005    56624.087689\n",
       "2006    57782.068511\n",
       "2007    57227.333189\n",
       "2008    57695.084571\n",
       "2009    60747.929853\n",
       "2010    62524.691614\n",
       "2011    62791.708992\n",
       "2012    64353.930114\n",
       "2013    65815.321557\n",
       "2014    67677.853068\n",
       "2015    69846.643168\n",
       "2016    75436.388472\n",
       "2017    78658.689020\n",
       "2018    83677.169590\n",
       "2019    39684.751950\n",
       "2020    39973.199379\n",
       "Name: Lower_CI, dtype: float64"
      ]
     },
     "execution_count": 19,
     "metadata": {},
     "output_type": "execute_result"
    }
   ],
   "source": [
    "dataframe.groupby('Years').sum()['Lower_CI']"
   ]
  },
  {
   "cell_type": "code",
   "execution_count": null,
   "id": "3a7c604c",
   "metadata": {},
   "outputs": [],
   "source": [
    "#Tổng giá trị kiểm soát trên theo các năm"
   ]
  },
  {
   "cell_type": "code",
   "execution_count": 20,
   "id": "abf4e30a",
   "metadata": {},
   "outputs": [
    {
     "data": {
      "text/plain": [
       "Years\n",
       "2000    61636.221450\n",
       "2001    61729.836501\n",
       "2002    61733.020636\n",
       "2003    64076.276821\n",
       "2004    62070.218330\n",
       "2005    63778.619312\n",
       "2006    65016.020058\n",
       "2007    64262.696996\n",
       "2008    64667.646486\n",
       "2009    67889.554049\n",
       "2010    69611.145414\n",
       "2011    69874.499100\n",
       "2012    71515.424047\n",
       "2013    72987.140899\n",
       "2014    74850.300240\n",
       "2015    77033.577269\n",
       "2016    82919.922335\n",
       "2017    85994.408840\n",
       "2018    91112.594457\n",
       "2019    42969.154410\n",
       "2020    43228.602425\n",
       "Name: Upper_CI, dtype: float64"
      ]
     },
     "execution_count": 20,
     "metadata": {},
     "output_type": "execute_result"
    }
   ],
   "source": [
    "dataframe.groupby('Years').sum()['Upper_CI']"
   ]
  },
  {
   "cell_type": "code",
   "execution_count": null,
   "id": "81a85e78",
   "metadata": {},
   "outputs": [],
   "source": [
    "dataframe['Years'] ="
   ]
  },
  {
   "cell_type": "code",
   "execution_count": 1,
   "id": "3aa1bfab",
   "metadata": {},
   "outputs": [],
   "source": [
    "#đây là giá trị kiểm soát chấn thương cao nhất\n",
    "#Dựa theo kết quả có ở trên thì giá trị kiểm soát chấn thương cao nhất ở năm 2018"
   ]
  },
  {
   "cell_type": "code",
   "execution_count": 15,
   "id": "59824620",
   "metadata": {},
   "outputs": [
    {
     "data": {
      "text/plain": [
       "87394.88202357074"
      ]
     },
     "execution_count": 15,
     "metadata": {},
     "output_type": "execute_result"
    }
   ],
   "source": [
    "inju_value = dataframe.groupby('Years').sum()['Data_value']\n",
    "inju_value.max()"
   ]
  },
  {
   "cell_type": "code",
   "execution_count": null,
   "id": "b364fd10",
   "metadata": {},
   "outputs": [],
   "source": [
    "#Dựa theo số liệu ở trên thì giá trị kiểm soát chấn thương thấp nhất ở năm 2019"
   ]
  },
  {
   "cell_type": "code",
   "execution_count": 16,
   "id": "88f81f10",
   "metadata": {},
   "outputs": [
    {
     "data": {
      "text/plain": [
       "41326.95317962748"
      ]
     },
     "execution_count": 16,
     "metadata": {},
     "output_type": "execute_result"
    }
   ],
   "source": [
    "inju_value = dataframe.groupby('Years').sum()['Data_value']\n",
    "inju_value.min()"
   ]
  },
  {
   "cell_type": "code",
   "execution_count": null,
   "id": "0b8a3da6",
   "metadata": {},
   "outputs": [],
   "source": [
    "#So sánh các giá trị với nhau bằng biểu đồ cột"
   ]
  },
  {
   "cell_type": "code",
   "execution_count": 31,
   "id": "8bee5489",
   "metadata": {},
   "outputs": [
    {
     "ename": "ValueError",
     "evalue": "shape mismatch: objects cannot be broadcast to a single shape",
     "output_type": "error",
     "traceback": [
      "\u001b[1;31m---------------------------------------------------------------------------\u001b[0m",
      "\u001b[1;31mValueError\u001b[0m                                Traceback (most recent call last)",
      "\u001b[1;32m~\\AppData\\Local\\Temp\\ipykernel_12580\\3453844657.py\u001b[0m in \u001b[0;36m<module>\u001b[1;34m\u001b[0m\n\u001b[0;32m      1\u001b[0m \u001b[0mYears\u001b[0m \u001b[1;33m=\u001b[0m \u001b[0mrange\u001b[0m\u001b[1;33m(\u001b[0m\u001b[1;36m2000\u001b[0m\u001b[1;33m,\u001b[0m\u001b[1;36m2020\u001b[0m\u001b[1;33m)\u001b[0m\u001b[1;33m\u001b[0m\u001b[1;33m\u001b[0m\u001b[0m\n\u001b[1;32m----> 2\u001b[1;33m \u001b[0mplt\u001b[0m\u001b[1;33m.\u001b[0m\u001b[0mbar\u001b[0m\u001b[1;33m(\u001b[0m\u001b[0mx\u001b[0m\u001b[1;33m=\u001b[0m\u001b[0mYears\u001b[0m\u001b[1;33m,\u001b[0m \u001b[0mheight\u001b[0m\u001b[1;33m=\u001b[0m\u001b[0minju_value\u001b[0m\u001b[1;33m)\u001b[0m\u001b[1;33m\u001b[0m\u001b[1;33m\u001b[0m\u001b[0m\n\u001b[0m\u001b[0;32m      3\u001b[0m \u001b[0mplt\u001b[0m\u001b[1;33m.\u001b[0m\u001b[0mshow\u001b[0m\u001b[1;33m(\u001b[0m\u001b[1;33m)\u001b[0m\u001b[1;33m\u001b[0m\u001b[1;33m\u001b[0m\u001b[0m\n",
      "\u001b[1;32mD:\\1\\lib\\site-packages\\matplotlib\\pyplot.py\u001b[0m in \u001b[0;36mbar\u001b[1;34m(x, height, width, bottom, align, data, **kwargs)\u001b[0m\n\u001b[0;32m   2397\u001b[0m         \u001b[0mx\u001b[0m\u001b[1;33m,\u001b[0m \u001b[0mheight\u001b[0m\u001b[1;33m,\u001b[0m \u001b[0mwidth\u001b[0m\u001b[1;33m=\u001b[0m\u001b[1;36m0.8\u001b[0m\u001b[1;33m,\u001b[0m \u001b[0mbottom\u001b[0m\u001b[1;33m=\u001b[0m\u001b[1;32mNone\u001b[0m\u001b[1;33m,\u001b[0m \u001b[1;33m*\u001b[0m\u001b[1;33m,\u001b[0m \u001b[0malign\u001b[0m\u001b[1;33m=\u001b[0m\u001b[1;34m'center'\u001b[0m\u001b[1;33m,\u001b[0m\u001b[1;33m\u001b[0m\u001b[1;33m\u001b[0m\u001b[0m\n\u001b[0;32m   2398\u001b[0m         data=None, **kwargs):\n\u001b[1;32m-> 2399\u001b[1;33m     return gca().bar(\n\u001b[0m\u001b[0;32m   2400\u001b[0m         \u001b[0mx\u001b[0m\u001b[1;33m,\u001b[0m \u001b[0mheight\u001b[0m\u001b[1;33m,\u001b[0m \u001b[0mwidth\u001b[0m\u001b[1;33m=\u001b[0m\u001b[0mwidth\u001b[0m\u001b[1;33m,\u001b[0m \u001b[0mbottom\u001b[0m\u001b[1;33m=\u001b[0m\u001b[0mbottom\u001b[0m\u001b[1;33m,\u001b[0m \u001b[0malign\u001b[0m\u001b[1;33m=\u001b[0m\u001b[0malign\u001b[0m\u001b[1;33m,\u001b[0m\u001b[1;33m\u001b[0m\u001b[1;33m\u001b[0m\u001b[0m\n\u001b[0;32m   2401\u001b[0m         **({\"data\": data} if data is not None else {}), **kwargs)\n",
      "\u001b[1;32mD:\\1\\lib\\site-packages\\matplotlib\\__init__.py\u001b[0m in \u001b[0;36minner\u001b[1;34m(ax, data, *args, **kwargs)\u001b[0m\n\u001b[0;32m   1410\u001b[0m     \u001b[1;32mdef\u001b[0m \u001b[0minner\u001b[0m\u001b[1;33m(\u001b[0m\u001b[0max\u001b[0m\u001b[1;33m,\u001b[0m \u001b[1;33m*\u001b[0m\u001b[0margs\u001b[0m\u001b[1;33m,\u001b[0m \u001b[0mdata\u001b[0m\u001b[1;33m=\u001b[0m\u001b[1;32mNone\u001b[0m\u001b[1;33m,\u001b[0m \u001b[1;33m**\u001b[0m\u001b[0mkwargs\u001b[0m\u001b[1;33m)\u001b[0m\u001b[1;33m:\u001b[0m\u001b[1;33m\u001b[0m\u001b[1;33m\u001b[0m\u001b[0m\n\u001b[0;32m   1411\u001b[0m         \u001b[1;32mif\u001b[0m \u001b[0mdata\u001b[0m \u001b[1;32mis\u001b[0m \u001b[1;32mNone\u001b[0m\u001b[1;33m:\u001b[0m\u001b[1;33m\u001b[0m\u001b[1;33m\u001b[0m\u001b[0m\n\u001b[1;32m-> 1412\u001b[1;33m             \u001b[1;32mreturn\u001b[0m \u001b[0mfunc\u001b[0m\u001b[1;33m(\u001b[0m\u001b[0max\u001b[0m\u001b[1;33m,\u001b[0m \u001b[1;33m*\u001b[0m\u001b[0mmap\u001b[0m\u001b[1;33m(\u001b[0m\u001b[0msanitize_sequence\u001b[0m\u001b[1;33m,\u001b[0m \u001b[0margs\u001b[0m\u001b[1;33m)\u001b[0m\u001b[1;33m,\u001b[0m \u001b[1;33m**\u001b[0m\u001b[0mkwargs\u001b[0m\u001b[1;33m)\u001b[0m\u001b[1;33m\u001b[0m\u001b[1;33m\u001b[0m\u001b[0m\n\u001b[0m\u001b[0;32m   1413\u001b[0m \u001b[1;33m\u001b[0m\u001b[0m\n\u001b[0;32m   1414\u001b[0m         \u001b[0mbound\u001b[0m \u001b[1;33m=\u001b[0m \u001b[0mnew_sig\u001b[0m\u001b[1;33m.\u001b[0m\u001b[0mbind\u001b[0m\u001b[1;33m(\u001b[0m\u001b[0max\u001b[0m\u001b[1;33m,\u001b[0m \u001b[1;33m*\u001b[0m\u001b[0margs\u001b[0m\u001b[1;33m,\u001b[0m \u001b[1;33m**\u001b[0m\u001b[0mkwargs\u001b[0m\u001b[1;33m)\u001b[0m\u001b[1;33m\u001b[0m\u001b[1;33m\u001b[0m\u001b[0m\n",
      "\u001b[1;32mD:\\1\\lib\\site-packages\\matplotlib\\axes\\_axes.py\u001b[0m in \u001b[0;36mbar\u001b[1;34m(self, x, height, width, bottom, align, **kwargs)\u001b[0m\n\u001b[0;32m   2340\u001b[0m                 \u001b[0myerr\u001b[0m \u001b[1;33m=\u001b[0m \u001b[0mself\u001b[0m\u001b[1;33m.\u001b[0m\u001b[0m_convert_dx\u001b[0m\u001b[1;33m(\u001b[0m\u001b[0myerr\u001b[0m\u001b[1;33m,\u001b[0m \u001b[0my0\u001b[0m\u001b[1;33m,\u001b[0m \u001b[0my\u001b[0m\u001b[1;33m,\u001b[0m \u001b[0mself\u001b[0m\u001b[1;33m.\u001b[0m\u001b[0mconvert_yunits\u001b[0m\u001b[1;33m)\u001b[0m\u001b[1;33m\u001b[0m\u001b[1;33m\u001b[0m\u001b[0m\n\u001b[0;32m   2341\u001b[0m \u001b[1;33m\u001b[0m\u001b[0m\n\u001b[1;32m-> 2342\u001b[1;33m         x, height, width, y, linewidth, hatch = np.broadcast_arrays(\n\u001b[0m\u001b[0;32m   2343\u001b[0m             \u001b[1;31m# Make args iterable too.\u001b[0m\u001b[1;33m\u001b[0m\u001b[1;33m\u001b[0m\u001b[0m\n\u001b[0;32m   2344\u001b[0m             np.atleast_1d(x), height, width, y, linewidth, hatch)\n",
      "\u001b[1;32m<__array_function__ internals>\u001b[0m in \u001b[0;36mbroadcast_arrays\u001b[1;34m(*args, **kwargs)\u001b[0m\n",
      "\u001b[1;32mD:\\1\\lib\\site-packages\\numpy\\lib\\stride_tricks.py\u001b[0m in \u001b[0;36mbroadcast_arrays\u001b[1;34m(subok, *args)\u001b[0m\n\u001b[0;32m    536\u001b[0m     \u001b[0margs\u001b[0m \u001b[1;33m=\u001b[0m \u001b[1;33m[\u001b[0m\u001b[0mnp\u001b[0m\u001b[1;33m.\u001b[0m\u001b[0marray\u001b[0m\u001b[1;33m(\u001b[0m\u001b[0m_m\u001b[0m\u001b[1;33m,\u001b[0m \u001b[0mcopy\u001b[0m\u001b[1;33m=\u001b[0m\u001b[1;32mFalse\u001b[0m\u001b[1;33m,\u001b[0m \u001b[0msubok\u001b[0m\u001b[1;33m=\u001b[0m\u001b[0msubok\u001b[0m\u001b[1;33m)\u001b[0m \u001b[1;32mfor\u001b[0m \u001b[0m_m\u001b[0m \u001b[1;32min\u001b[0m \u001b[0margs\u001b[0m\u001b[1;33m]\u001b[0m\u001b[1;33m\u001b[0m\u001b[1;33m\u001b[0m\u001b[0m\n\u001b[0;32m    537\u001b[0m \u001b[1;33m\u001b[0m\u001b[0m\n\u001b[1;32m--> 538\u001b[1;33m     \u001b[0mshape\u001b[0m \u001b[1;33m=\u001b[0m \u001b[0m_broadcast_shape\u001b[0m\u001b[1;33m(\u001b[0m\u001b[1;33m*\u001b[0m\u001b[0margs\u001b[0m\u001b[1;33m)\u001b[0m\u001b[1;33m\u001b[0m\u001b[1;33m\u001b[0m\u001b[0m\n\u001b[0m\u001b[0;32m    539\u001b[0m \u001b[1;33m\u001b[0m\u001b[0m\n\u001b[0;32m    540\u001b[0m     \u001b[1;32mif\u001b[0m \u001b[0mall\u001b[0m\u001b[1;33m(\u001b[0m\u001b[0marray\u001b[0m\u001b[1;33m.\u001b[0m\u001b[0mshape\u001b[0m \u001b[1;33m==\u001b[0m \u001b[0mshape\u001b[0m \u001b[1;32mfor\u001b[0m \u001b[0marray\u001b[0m \u001b[1;32min\u001b[0m \u001b[0margs\u001b[0m\u001b[1;33m)\u001b[0m\u001b[1;33m:\u001b[0m\u001b[1;33m\u001b[0m\u001b[1;33m\u001b[0m\u001b[0m\n",
      "\u001b[1;32mD:\\1\\lib\\site-packages\\numpy\\lib\\stride_tricks.py\u001b[0m in \u001b[0;36m_broadcast_shape\u001b[1;34m(*args)\u001b[0m\n\u001b[0;32m    418\u001b[0m     \u001b[1;31m# use the old-iterator because np.nditer does not handle size 0 arrays\u001b[0m\u001b[1;33m\u001b[0m\u001b[1;33m\u001b[0m\u001b[0m\n\u001b[0;32m    419\u001b[0m     \u001b[1;31m# consistently\u001b[0m\u001b[1;33m\u001b[0m\u001b[1;33m\u001b[0m\u001b[0m\n\u001b[1;32m--> 420\u001b[1;33m     \u001b[0mb\u001b[0m \u001b[1;33m=\u001b[0m \u001b[0mnp\u001b[0m\u001b[1;33m.\u001b[0m\u001b[0mbroadcast\u001b[0m\u001b[1;33m(\u001b[0m\u001b[1;33m*\u001b[0m\u001b[0margs\u001b[0m\u001b[1;33m[\u001b[0m\u001b[1;33m:\u001b[0m\u001b[1;36m32\u001b[0m\u001b[1;33m]\u001b[0m\u001b[1;33m)\u001b[0m\u001b[1;33m\u001b[0m\u001b[1;33m\u001b[0m\u001b[0m\n\u001b[0m\u001b[0;32m    421\u001b[0m     \u001b[1;31m# unfortunately, it cannot handle 32 or more arguments directly\u001b[0m\u001b[1;33m\u001b[0m\u001b[1;33m\u001b[0m\u001b[0m\n\u001b[0;32m    422\u001b[0m     \u001b[1;32mfor\u001b[0m \u001b[0mpos\u001b[0m \u001b[1;32min\u001b[0m \u001b[0mrange\u001b[0m\u001b[1;33m(\u001b[0m\u001b[1;36m32\u001b[0m\u001b[1;33m,\u001b[0m \u001b[0mlen\u001b[0m\u001b[1;33m(\u001b[0m\u001b[0margs\u001b[0m\u001b[1;33m)\u001b[0m\u001b[1;33m,\u001b[0m \u001b[1;36m31\u001b[0m\u001b[1;33m)\u001b[0m\u001b[1;33m:\u001b[0m\u001b[1;33m\u001b[0m\u001b[1;33m\u001b[0m\u001b[0m\n",
      "\u001b[1;31mValueError\u001b[0m: shape mismatch: objects cannot be broadcast to a single shape"
     ]
    },
    {
     "data": {
      "image/png": "[encoded data removed]",
      "text/plain": [
       "<Figure size 640x480 with 1 Axes>"
      ]
     },
     "metadata": {},
     "output_type": "display_data"
    }
   ],
   "source": [
    "Years = range(2000,2020)\n",
    "plt.bar(x=Years, height=inju_value)\n",
    "plt.show()"
   ]
  },
  {
   "cell_type": "code",
   "execution_count": null,
   "id": "7be71789",
   "metadata": {},
   "outputs": [],
   "source": [
    "##Phần này bị lỗi do 2 giá trị không có cùng độ dài vector nên em không thể chạy matplotlib để vẽ biểu đồ\n",
    "#Sau 1 khoảng thời gian mày mò thì e vẫn không tìm được cách xử lý vấn đều này. ở trên stackoverflow họ bảo là lỗi \n",
    "# ở tham số đầu vào chứ đoạn code không sai nên e vẫn giữ nguyên phần này ạ"
   ]
  },
  {
   "cell_type": "code",
   "execution_count": 28,
   "id": "0d69f35f",
   "metadata": {},
   "outputs": [],
   "source": [
    "#END"
   ]
  },
  {
   "cell_type": "code",
   "execution_count": 27,
   "id": "386e57e4",
   "metadata": {},
   "outputs": [],
   "source": [
    "#END"
   ]
  },
  {
   "cell_type": "code",
   "execution_count": null,
   "id": "d3ed3ab3",
   "metadata": {},
   "outputs": [],
   "source": []
  }
 ],
 "metadata": {
  "kernelspec": {
   "display_name": "Python 3 (ipykernel)",
   "language": "python",
   "name": "python3"
  },
  "language_info": {
   "codemirror_mode": {
    "name": "ipython",
    "version": 3
   },
   "file_extension": ".py",
   "mimetype": "text/x-python",
   "name": "python",
   "nbconvert_exporter": "python",
   "pygments_lexer": "ipython3",
   "version": "3.9.13"
  }
 },
 "nbformat": 4,
 "nbformat_minor": 5
}
